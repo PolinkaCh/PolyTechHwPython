{
 "cells": [
  {
   "cell_type": "code",
   "execution_count": null,
   "metadata": {},
   "outputs": [],
   "source": [
    "# создание словаря. Распределение фильмов по переводчикам\n",
    "filmNamesAndTranslators = {\n",
    "    \"At the philosophers school\": \"Фрич\",\n",
    "    \"Break the codes\": \"Моргачева\",\n",
    "    \"Enlightenment. Freedom\" : \"Алексеевская\",\n",
    "    \"Enlightenment. Justice\" : \"Чумак\",\n",
    "    \"Enlightenment. Cognition\" : \"Боброва\"\n",
    "}\n",
    "print(filmNamesAndTranslators)"
   ]
  },
  {
   "cell_type": "code",
   "execution_count": null,
   "metadata": {},
   "outputs": [],
   "source": [
    "#Получение доступа к элементам\n",
    "#1 способ\n",
    "z = filmNamesAndTranslators[ \"Break the codes\"]\n",
    "print (z)\n",
    "\n",
    "#2 способ\n",
    "print (\"Имя переводчика для фильма 'Enlightenment. Freedom':\", filmNamesAndTranslators [\"Enlightenment. Freedom\"])\n",
    "\n",
    "#3 способ\n",
    "\n",
    "x = filmNamesAndTranslators.get (\"Enlightenment. Cognition\")\n",
    "print (x)\n",
    "\n"
   ]
  },
  {
   "cell_type": "code",
   "execution_count": null,
   "metadata": {},
   "outputs": [],
   "source": [
    "#Добавление элементов в словарь\n",
    "filmNamesAndTranslators [\"Meat the Future\"] = \"Рязанцева\"\n",
    "print (filmNamesAndTranslators)"
   ]
  },
  {
   "cell_type": "code",
   "execution_count": null,
   "metadata": {},
   "outputs": [],
   "source": [
    "#Обновление элементов в словаре\n",
    "filmNamesAndTranslators[\"At the philosophers school\"] = \"Сахненко\"\n",
    "print (filmNamesAndTranslators)\n"
   ]
  },
  {
   "cell_type": "code",
   "execution_count": null,
   "metadata": {},
   "outputs": [],
   "source": [
    "#Подсчёт количества элементов в словаре\n",
    "print (len(filmNamesAndTranslators))"
   ]
  },
  {
   "cell_type": "code",
   "execution_count": null,
   "metadata": {},
   "outputs": [],
   "source": [
    "#Создание копии словаря\n",
    "y = filmNamesAndTranslators.copy ()\n",
    "print (y)"
   ]
  },
  {
   "cell_type": "code",
   "execution_count": null,
   "metadata": {},
   "outputs": [],
   "source": [
    "#Перебор элементов\n",
    "#1 способ\n",
    "p = filmNamesAndTranslators.items ()\n",
    "print (p)\n",
    "#2 способ\n",
    "for k, v in filmNamesAndTranslators.items(): \n",
    "    print(k, v)\n",
    "#3 перебор по ключам \n",
    "keys = filmNamesAndTranslators.keys ()\n",
    "print (keys)"
   ]
  },
  {
   "cell_type": "code",
   "execution_count": null,
   "metadata": {},
   "outputs": [],
   "source": [
    "# Удаление элементов \n",
    "#1 способ\n",
    "del filmNamesAndTranslators [\"Enlightenment. Justice\" ]\n",
    "print (filmNamesAndTranslators)\n",
    "#2 Способ\n",
    "filmNamesAndTranslators.pop (\"Break the codes\")\n",
    "print (filmNamesAndTranslators)\n",
    "#3 способ. Удаление последнего элемента\n",
    "filmNamesAndTranslators.popitem()\n",
    "print (filmNamesAndTranslators)\n",
    "\n",
    "#Удаление всех элементов словаря \n",
    "filmNamesAndTranslators.clear ()\n",
    "print (filmNamesAndTranslators)\n",
    "\n",
    "\n"
   ]
  },
  {
   "cell_type": "code",
   "execution_count": null,
   "metadata": {},
   "outputs": [],
   "source": [
    "# словарь из указанных ключей \n",
    "film = (\"Twinkle Dammit!\", \"Mass\",\"The Good Boss\")\n",
    "names = (\"Рязанцева\")\n",
    "filmNamesAndTranslators = dict.fromkeys (film, names)\n",
    "print (filmNamesAndTranslators)"
   ]
  },
  {
   "cell_type": "code",
   "execution_count": null,
   "metadata": {},
   "outputs": [],
   "source": [
    "# Создание кортежа\n",
    "serials =(\"Mr Wrong\", \"Destination Happiness\", \"The responder\", \"Raised by wolves\", \"Fast&Fun\") \n",
    "print (serials)"
   ]
  },
  {
   "cell_type": "code",
   "execution_count": null,
   "metadata": {},
   "outputs": [],
   "source": [
    "#Доступ к элементам кортежа\n",
    "serials [4]"
   ]
  },
  {
   "cell_type": "code",
   "execution_count": null,
   "metadata": {},
   "outputs": [],
   "source": [
    "#Создание срезов\n",
    "serials [1:4]\n",
    "serials [::2]"
   ]
  },
  {
   "cell_type": "code",
   "execution_count": null,
   "metadata": {},
   "outputs": [],
   "source": [
    "#объединение кортежей\n",
    "films =(\"MIL COLMILLOS\", \"Doll & Em 2\")\n",
    "files = serials + films\n",
    "print (files) "
   ]
  },
  {
   "cell_type": "code",
   "execution_count": null,
   "metadata": {},
   "outputs": [],
   "source": [
    "#Умножение кортежей\n",
    "filmsrep = films * 3\n",
    "print (filmsrep)"
   ]
  },
  {
   "cell_type": "code",
   "execution_count": null,
   "metadata": {},
   "outputs": [],
   "source": [
    "#Функции кортежей\n",
    "#1.Количество повторений элемента \n",
    "filmsrep.count('MIL COLMILLOS')\n",
    "#2. Длина кортежа\n",
    "print (len(serials))\n",
    "#3. Проверка на пустоту\n",
    "print (any(serials)) \n",
    "#4. Самый большой и маленький элемент\n",
    "print (max(serials))\n",
    "print (min(serials))\n",
    "#5 Сортировка\n",
    "sorted (serials)\n"
   ]
  },
  {
   "cell_type": "code",
   "execution_count": null,
   "metadata": {},
   "outputs": [],
   "source": [
    "#превращение списка в кортеж\n",
    "translators = (\"Якубовская\", \"Малькова\", \"Павельева\")\n",
    "translatorsTuple =tuple(translators)\n",
    "print (type (translatorsTuple))"
   ]
  },
  {
   "cell_type": "code",
   "execution_count": null,
   "metadata": {},
   "outputs": [],
   "source": [
    "#Создание списка \n",
    "filmCard = [\"англ\",\"Draft day\", 107, \"SDI\", \"Вахнеева\"] \n",
    "print (filmCard)"
   ]
  },
  {
   "cell_type": "code",
   "execution_count": null,
   "metadata": {},
   "outputs": [],
   "source": [
    "#Доступ к элементам \n",
    "print (filmCard[4])\n",
    "#Срез списка\n",
    "print (filmCard[2:4])\n"
   ]
  },
  {
   "cell_type": "code",
   "execution_count": null,
   "metadata": {},
   "outputs": [],
   "source": [
    "#изменение элемента \n",
    "filmCard [2] = 37\n",
    "print (filmCard)\n"
   ]
  },
  {
   "cell_type": "code",
   "execution_count": null,
   "metadata": {},
   "outputs": [],
   "source": [
    "#Применение методов к спискам\n",
    "#1. Возвращение индекса по значению\n",
    "print (filmCard.index (\"SDI\"))\n",
    "#2. Подсчёт количества повтора элемента\n",
    "print (filmCard.count (\"Draft Day\"))\n",
    "#3. Сортировка\n",
    "filmCard.sort ()\n",
    "print (filmCard)\n",
    "filmCard.sort (reverse = True) # Сортировка с реверсом\n",
    "print (filmCard)\n",
    "#4. Добавление элементов \n",
    "filmCard.append (\"Садыкова\") #Добавление элемента \n",
    "print (filmCard)\n",
    "filmCard.extend ([Karadayi,93]) #Добавление нескольких элементов\n",
    "print (filmCard)\n",
    "filmCard.insert (4,56) #Добавление в указанное место\n",
    "#5. Удаление элементов\n",
    "filmCard.remove (\"Вахнеева\") # По значению\n",
    "print (filmCard)\n",
    "print (filmCard.pop (6)) # По индексу\n"
   ]
  },
  {
   "cell_type": "code",
   "execution_count": null,
   "metadata": {},
   "outputs": [],
   "source": [
    "#Операции над списками\n",
    "#1. Проверка наличия элемента в списке\n",
    "\"Садыкова\" in filmCard \n",
    "33 not in filmCard\n",
    "#2. Повтор списка\n",
    "filmCard2 = filmCard * 2 \n",
    "print (filmCard2)\n",
    "#3. Длина списка\n",
    "len (filmCard)\n",
    "#4. Макс. и мин. значение в списке\n",
    "min(filmCard)\n",
    "max(filmCard)\n",
    "#5. Сложение двухсписков в один\n",
    "filmCard3=filmCard + filmCard2\n",
    "print (filmCard3)"
   ]
  },
  {
   "cell_type": "code",
   "execution_count": null,
   "metadata": {},
   "outputs": [],
   "source": [
    "#Преобразование списка в строку\n",
    "print (\",\".join (filmCard))\n",
    "print('\\n'.join(map(str, filmCard)))"
   ]
  },
  {
   "cell_type": "code",
   "execution_count": null,
   "metadata": {},
   "outputs": [],
   "source": [
    "#Создаем множество \n",
    "filmsToTranslate = {\"To life\", \"Storm hunters \", \"Fast zone\",\"EventyOn\", \"Mr Wrong\" }\n",
    "print (filmsToTranslate)"
   ]
  },
  {
   "cell_type": "code",
   "execution_count": null,
   "metadata": {},
   "outputs": [],
   "source": [
    "#Добавление элементов \n",
    "filmsToTranslate.add(\"My Lovely Angel\") #Добавление одного\n",
    "print (filmsToTranslate)\n",
    "filmsToTranslate.update([\"Raging Fire\", \"THE GILDED AGE\"]) #Добавление нескольких\n",
    "print (filmsToTranslate)\n"
   ]
  },
  {
   "cell_type": "code",
   "execution_count": null,
   "metadata": {},
   "outputs": [],
   "source": [
    "#Удаление элементов\n",
    "filmsToTranslate.remove (\"To life\") #Удаление одного с выводом ошибки, если эл. нет \n",
    "print (filmsToTranslate)\n",
    "filmsToTranslate.discard (\"Raging Fire\") #Удаление одного без вывода ошибки\n",
    "print (filmsToTranslate)\n",
    "filmsToTranslate.pop () #Произвольное удаление\n",
    "print (filmsToTranslate)\n"
   ]
  },
  {
   "cell_type": "code",
   "execution_count": null,
   "metadata": {},
   "outputs": [],
   "source": [
    "#Проверка наличия элемента \n",
    "\"Small Engine Repair\" in filmsToTranslate\n",
    "\"Fast zone\"not in filmsToTranslate"
   ]
  },
  {
   "cell_type": "code",
   "execution_count": null,
   "metadata": {},
   "outputs": [],
   "source": [
    "#Функции со множествами\n",
    "# вычисление длины множества\n",
    "len (filmsToTranslate)\n",
    "# создание копии\n",
    "newFilms = filmsToTranslate.copy()\n",
    "print (newFilms)\n",
    "# очистка множества(удаление всех элементов)\n",
    "newFilms.clear ()\n",
    "print (newFilms)\n",
    "# удаление множества целиком\n",
    "del newFilms\n",
    "print (newFilms)\n"
   ]
  },
  {
   "cell_type": "code",
   "execution_count": null,
   "metadata": {},
   "outputs": [],
   "source": [
    "#Работа с несколькими множествами\n",
    "serialsToTranslate = { \"STATE OF THE UNION 2\",\"HW_Monster Trucks\", \"Half Songs\"}\n",
    "#Объединение множеств\n",
    "materialsToTranslate = filmsToTranslate.union (serialsToTranslate)\n",
    "print (materialsToTranslate)\n",
    "#пересечение множеств\n",
    "films2 = materialsToTranslate.intersection (filmsToTranslate)\n",
    "print (films2)\n",
    "#разность множеств \n",
    "serials2 = materialsToTranslate.difference (filmsToTranslate)\n",
    "print (serials2)\n",
    "#Проверка на подмножество\n",
    "serials2.issubset(materialsToTranslate)\n",
    "\n",
    "\n"
   ]
  }
 ],
 "metadata": {
  "kernelspec": {
   "display_name": "Python 3.10.5 64-bit",
   "language": "python",
   "name": "python3"
  },
  "language_info": {
   "codemirror_mode": {
    "name": "ipython",
    "version": 3
   },
   "file_extension": ".py",
   "mimetype": "text/x-python",
   "name": "python",
   "nbconvert_exporter": "python",
   "pygments_lexer": "ipython3",
   "version": "3.10.5"
  },
  "orig_nbformat": 4,
  "vscode": {
   "interpreter": {
    "hash": "fb4569285eef3a3450cb62085a5b1e0da4bce0af555edc33dcf29baf3acc1368"
   }
  }
 },
 "nbformat": 4,
 "nbformat_minor": 2
}
